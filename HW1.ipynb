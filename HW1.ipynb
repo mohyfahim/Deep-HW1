{
 "cells": [
  {
   "cell_type": "code",
   "execution_count": 1,
   "id": "c9332f30-dfa0-4b03-b549-e84bb1ef898a",
   "metadata": {},
   "outputs": [
    {
     "name": "stderr",
     "output_type": "stream",
     "text": [
      "2021-11-02 18:40:50.707975: W tensorflow/stream_executor/platform/default/dso_loader.cc:64] Could not load dynamic library 'libcudart.so.11.0'; dlerror: libcudart.so.11.0: cannot open shared object file: No such file or directory\n",
      "2021-11-02 18:40:50.707995: I tensorflow/stream_executor/cuda/cudart_stub.cc:29] Ignore above cudart dlerror if you do not have a GPU set up on your machine.\n"
     ]
    },
    {
     "name": "stdout",
     "output_type": "stream",
     "text": [
      "WARNING:tensorflow:From /home/mohy/uni/DeepLearning/HW/HW-01-DL-2021/HW1/venv/lib/python3.8/site-packages/tensorflow/python/compat/v2_compat.py:101: disable_resource_variables (from tensorflow.python.ops.variable_scope) is deprecated and will be removed in a future version.\n",
      "Instructions for updating:\n",
      "non-resource variables are not supported in the long term\n"
     ]
    }
   ],
   "source": [
    "import numpy as np\n",
    "import pandas as pd\n",
    "from matplotlib import pyplot as plt \n",
    "\n",
    "import tensorflow.compat.v1 as tf\n",
    "tf.disable_v2_behavior()\n"
   ]
  },
  {
   "cell_type": "code",
   "execution_count": 2,
   "id": "0d124fca-84db-425f-a824-c15163a3c75d",
   "metadata": {},
   "outputs": [],
   "source": [
    "TRAIN_DATA_PATH = \"data/Q1_train.csv\"\n",
    "TEST_DATA_PATH = \"data/Q1_test.csv\"\n",
    "\n",
    "SIZE_IN_ROW = 28\n",
    "VALIDATION_PERCNTAGE = 0.2\n",
    "\n",
    "LABELS = {0:'A',1:'B',2:'C',3:'D',4:'E',5:'F',6:'G',7:'H',8:'I',10:'K',11:'L',\n",
    "          12:'M',13:'N',14:'O',15:'P',16:'Q',17:'R',18:'S',\n",
    "          19:'T',20:'U',21:'V',22:'W',23:'X',24:'Y'}\n",
    "\n",
    "\n",
    "WIDTH = 28\n",
    "HEIGHT = 28"
   ]
  },
  {
   "cell_type": "code",
   "execution_count": 3,
   "id": "91205152-a801-433d-94c5-3c24ce4d7af0",
   "metadata": {},
   "outputs": [],
   "source": [
    "all_data = pd.read_csv(TRAIN_DATA_PATH,index_col=False)\n",
    "test_data = pd.read_csv(TEST_DATA_PATH,index_col=False)"
   ]
  },
  {
   "cell_type": "code",
   "execution_count": 4,
   "id": "0a50b412-8fe2-4011-84a9-db0c2f68779d",
   "metadata": {},
   "outputs": [
    {
     "data": {
      "text/html": [
       "<div>\n",
       "<style scoped>\n",
       "    .dataframe tbody tr th:only-of-type {\n",
       "        vertical-align: middle;\n",
       "    }\n",
       "\n",
       "    .dataframe tbody tr th {\n",
       "        vertical-align: top;\n",
       "    }\n",
       "\n",
       "    .dataframe thead th {\n",
       "        text-align: right;\n",
       "    }\n",
       "</style>\n",
       "<table border=\"1\" class=\"dataframe\">\n",
       "  <thead>\n",
       "    <tr style=\"text-align: right;\">\n",
       "      <th></th>\n",
       "      <th>label</th>\n",
       "      <th>pixel1</th>\n",
       "      <th>pixel2</th>\n",
       "      <th>pixel3</th>\n",
       "      <th>pixel4</th>\n",
       "      <th>pixel5</th>\n",
       "      <th>pixel6</th>\n",
       "      <th>pixel7</th>\n",
       "      <th>pixel8</th>\n",
       "      <th>pixel9</th>\n",
       "      <th>...</th>\n",
       "      <th>pixel775</th>\n",
       "      <th>pixel776</th>\n",
       "      <th>pixel777</th>\n",
       "      <th>pixel778</th>\n",
       "      <th>pixel779</th>\n",
       "      <th>pixel780</th>\n",
       "      <th>pixel781</th>\n",
       "      <th>pixel782</th>\n",
       "      <th>pixel783</th>\n",
       "      <th>pixel784</th>\n",
       "    </tr>\n",
       "  </thead>\n",
       "  <tbody>\n",
       "    <tr>\n",
       "      <th>0</th>\n",
       "      <td>3</td>\n",
       "      <td>107</td>\n",
       "      <td>118</td>\n",
       "      <td>127</td>\n",
       "      <td>134</td>\n",
       "      <td>139</td>\n",
       "      <td>143</td>\n",
       "      <td>146</td>\n",
       "      <td>150</td>\n",
       "      <td>153</td>\n",
       "      <td>...</td>\n",
       "      <td>207</td>\n",
       "      <td>207</td>\n",
       "      <td>207</td>\n",
       "      <td>207</td>\n",
       "      <td>206</td>\n",
       "      <td>206</td>\n",
       "      <td>206</td>\n",
       "      <td>204</td>\n",
       "      <td>203</td>\n",
       "      <td>202</td>\n",
       "    </tr>\n",
       "    <tr>\n",
       "      <th>1</th>\n",
       "      <td>6</td>\n",
       "      <td>155</td>\n",
       "      <td>157</td>\n",
       "      <td>156</td>\n",
       "      <td>156</td>\n",
       "      <td>156</td>\n",
       "      <td>157</td>\n",
       "      <td>156</td>\n",
       "      <td>158</td>\n",
       "      <td>158</td>\n",
       "      <td>...</td>\n",
       "      <td>69</td>\n",
       "      <td>149</td>\n",
       "      <td>128</td>\n",
       "      <td>87</td>\n",
       "      <td>94</td>\n",
       "      <td>163</td>\n",
       "      <td>175</td>\n",
       "      <td>103</td>\n",
       "      <td>135</td>\n",
       "      <td>149</td>\n",
       "    </tr>\n",
       "    <tr>\n",
       "      <th>2</th>\n",
       "      <td>2</td>\n",
       "      <td>187</td>\n",
       "      <td>188</td>\n",
       "      <td>188</td>\n",
       "      <td>187</td>\n",
       "      <td>187</td>\n",
       "      <td>186</td>\n",
       "      <td>187</td>\n",
       "      <td>188</td>\n",
       "      <td>187</td>\n",
       "      <td>...</td>\n",
       "      <td>202</td>\n",
       "      <td>201</td>\n",
       "      <td>200</td>\n",
       "      <td>199</td>\n",
       "      <td>198</td>\n",
       "      <td>199</td>\n",
       "      <td>198</td>\n",
       "      <td>195</td>\n",
       "      <td>194</td>\n",
       "      <td>195</td>\n",
       "    </tr>\n",
       "    <tr>\n",
       "      <th>3</th>\n",
       "      <td>2</td>\n",
       "      <td>211</td>\n",
       "      <td>211</td>\n",
       "      <td>212</td>\n",
       "      <td>212</td>\n",
       "      <td>211</td>\n",
       "      <td>210</td>\n",
       "      <td>211</td>\n",
       "      <td>210</td>\n",
       "      <td>210</td>\n",
       "      <td>...</td>\n",
       "      <td>235</td>\n",
       "      <td>234</td>\n",
       "      <td>233</td>\n",
       "      <td>231</td>\n",
       "      <td>230</td>\n",
       "      <td>226</td>\n",
       "      <td>225</td>\n",
       "      <td>222</td>\n",
       "      <td>229</td>\n",
       "      <td>163</td>\n",
       "    </tr>\n",
       "    <tr>\n",
       "      <th>4</th>\n",
       "      <td>13</td>\n",
       "      <td>164</td>\n",
       "      <td>167</td>\n",
       "      <td>170</td>\n",
       "      <td>172</td>\n",
       "      <td>176</td>\n",
       "      <td>179</td>\n",
       "      <td>180</td>\n",
       "      <td>184</td>\n",
       "      <td>185</td>\n",
       "      <td>...</td>\n",
       "      <td>92</td>\n",
       "      <td>105</td>\n",
       "      <td>105</td>\n",
       "      <td>108</td>\n",
       "      <td>133</td>\n",
       "      <td>163</td>\n",
       "      <td>157</td>\n",
       "      <td>163</td>\n",
       "      <td>164</td>\n",
       "      <td>179</td>\n",
       "    </tr>\n",
       "  </tbody>\n",
       "</table>\n",
       "<p>5 rows × 785 columns</p>\n",
       "</div>"
      ],
      "text/plain": [
       "   label  pixel1  pixel2  pixel3  pixel4  pixel5  pixel6  pixel7  pixel8  \\\n",
       "0      3     107     118     127     134     139     143     146     150   \n",
       "1      6     155     157     156     156     156     157     156     158   \n",
       "2      2     187     188     188     187     187     186     187     188   \n",
       "3      2     211     211     212     212     211     210     211     210   \n",
       "4     13     164     167     170     172     176     179     180     184   \n",
       "\n",
       "   pixel9  ...  pixel775  pixel776  pixel777  pixel778  pixel779  pixel780  \\\n",
       "0     153  ...       207       207       207       207       206       206   \n",
       "1     158  ...        69       149       128        87        94       163   \n",
       "2     187  ...       202       201       200       199       198       199   \n",
       "3     210  ...       235       234       233       231       230       226   \n",
       "4     185  ...        92       105       105       108       133       163   \n",
       "\n",
       "   pixel781  pixel782  pixel783  pixel784  \n",
       "0       206       204       203       202  \n",
       "1       175       103       135       149  \n",
       "2       198       195       194       195  \n",
       "3       225       222       229       163  \n",
       "4       157       163       164       179  \n",
       "\n",
       "[5 rows x 785 columns]"
      ]
     },
     "execution_count": 4,
     "metadata": {},
     "output_type": "execute_result"
    }
   ],
   "source": [
    "all_data.head()"
   ]
  },
  {
   "cell_type": "code",
   "execution_count": 5,
   "id": "65faea6f-f6e2-41b3-85a6-dadb20551058",
   "metadata": {},
   "outputs": [
    {
     "data": {
      "text/html": [
       "<div>\n",
       "<style scoped>\n",
       "    .dataframe tbody tr th:only-of-type {\n",
       "        vertical-align: middle;\n",
       "    }\n",
       "\n",
       "    .dataframe tbody tr th {\n",
       "        vertical-align: top;\n",
       "    }\n",
       "\n",
       "    .dataframe thead th {\n",
       "        text-align: right;\n",
       "    }\n",
       "</style>\n",
       "<table border=\"1\" class=\"dataframe\">\n",
       "  <thead>\n",
       "    <tr style=\"text-align: right;\">\n",
       "      <th></th>\n",
       "      <th>label</th>\n",
       "      <th>pixel1</th>\n",
       "      <th>pixel2</th>\n",
       "      <th>pixel3</th>\n",
       "      <th>pixel4</th>\n",
       "      <th>pixel5</th>\n",
       "      <th>pixel6</th>\n",
       "      <th>pixel7</th>\n",
       "      <th>pixel8</th>\n",
       "      <th>pixel9</th>\n",
       "      <th>...</th>\n",
       "      <th>pixel775</th>\n",
       "      <th>pixel776</th>\n",
       "      <th>pixel777</th>\n",
       "      <th>pixel778</th>\n",
       "      <th>pixel779</th>\n",
       "      <th>pixel780</th>\n",
       "      <th>pixel781</th>\n",
       "      <th>pixel782</th>\n",
       "      <th>pixel783</th>\n",
       "      <th>pixel784</th>\n",
       "    </tr>\n",
       "  </thead>\n",
       "  <tbody>\n",
       "    <tr>\n",
       "      <th>0</th>\n",
       "      <td>6</td>\n",
       "      <td>149</td>\n",
       "      <td>149</td>\n",
       "      <td>150</td>\n",
       "      <td>150</td>\n",
       "      <td>150</td>\n",
       "      <td>151</td>\n",
       "      <td>151</td>\n",
       "      <td>150</td>\n",
       "      <td>151</td>\n",
       "      <td>...</td>\n",
       "      <td>138</td>\n",
       "      <td>148</td>\n",
       "      <td>127</td>\n",
       "      <td>89</td>\n",
       "      <td>82</td>\n",
       "      <td>96</td>\n",
       "      <td>106</td>\n",
       "      <td>112</td>\n",
       "      <td>120</td>\n",
       "      <td>107</td>\n",
       "    </tr>\n",
       "    <tr>\n",
       "      <th>1</th>\n",
       "      <td>5</td>\n",
       "      <td>126</td>\n",
       "      <td>128</td>\n",
       "      <td>131</td>\n",
       "      <td>132</td>\n",
       "      <td>133</td>\n",
       "      <td>134</td>\n",
       "      <td>135</td>\n",
       "      <td>135</td>\n",
       "      <td>136</td>\n",
       "      <td>...</td>\n",
       "      <td>47</td>\n",
       "      <td>104</td>\n",
       "      <td>194</td>\n",
       "      <td>183</td>\n",
       "      <td>186</td>\n",
       "      <td>184</td>\n",
       "      <td>184</td>\n",
       "      <td>184</td>\n",
       "      <td>182</td>\n",
       "      <td>180</td>\n",
       "    </tr>\n",
       "    <tr>\n",
       "      <th>2</th>\n",
       "      <td>10</td>\n",
       "      <td>85</td>\n",
       "      <td>88</td>\n",
       "      <td>92</td>\n",
       "      <td>96</td>\n",
       "      <td>105</td>\n",
       "      <td>123</td>\n",
       "      <td>135</td>\n",
       "      <td>143</td>\n",
       "      <td>147</td>\n",
       "      <td>...</td>\n",
       "      <td>68</td>\n",
       "      <td>166</td>\n",
       "      <td>242</td>\n",
       "      <td>227</td>\n",
       "      <td>230</td>\n",
       "      <td>227</td>\n",
       "      <td>226</td>\n",
       "      <td>225</td>\n",
       "      <td>224</td>\n",
       "      <td>222</td>\n",
       "    </tr>\n",
       "    <tr>\n",
       "      <th>3</th>\n",
       "      <td>0</td>\n",
       "      <td>203</td>\n",
       "      <td>205</td>\n",
       "      <td>207</td>\n",
       "      <td>206</td>\n",
       "      <td>207</td>\n",
       "      <td>209</td>\n",
       "      <td>210</td>\n",
       "      <td>209</td>\n",
       "      <td>210</td>\n",
       "      <td>...</td>\n",
       "      <td>154</td>\n",
       "      <td>248</td>\n",
       "      <td>247</td>\n",
       "      <td>248</td>\n",
       "      <td>253</td>\n",
       "      <td>236</td>\n",
       "      <td>230</td>\n",
       "      <td>240</td>\n",
       "      <td>253</td>\n",
       "      <td>255</td>\n",
       "    </tr>\n",
       "    <tr>\n",
       "      <th>4</th>\n",
       "      <td>3</td>\n",
       "      <td>188</td>\n",
       "      <td>191</td>\n",
       "      <td>193</td>\n",
       "      <td>195</td>\n",
       "      <td>199</td>\n",
       "      <td>201</td>\n",
       "      <td>202</td>\n",
       "      <td>203</td>\n",
       "      <td>203</td>\n",
       "      <td>...</td>\n",
       "      <td>26</td>\n",
       "      <td>40</td>\n",
       "      <td>64</td>\n",
       "      <td>48</td>\n",
       "      <td>29</td>\n",
       "      <td>46</td>\n",
       "      <td>49</td>\n",
       "      <td>46</td>\n",
       "      <td>46</td>\n",
       "      <td>53</td>\n",
       "    </tr>\n",
       "  </tbody>\n",
       "</table>\n",
       "<p>5 rows × 785 columns</p>\n",
       "</div>"
      ],
      "text/plain": [
       "   label  pixel1  pixel2  pixel3  pixel4  pixel5  pixel6  pixel7  pixel8  \\\n",
       "0      6     149     149     150     150     150     151     151     150   \n",
       "1      5     126     128     131     132     133     134     135     135   \n",
       "2     10      85      88      92      96     105     123     135     143   \n",
       "3      0     203     205     207     206     207     209     210     209   \n",
       "4      3     188     191     193     195     199     201     202     203   \n",
       "\n",
       "   pixel9  ...  pixel775  pixel776  pixel777  pixel778  pixel779  pixel780  \\\n",
       "0     151  ...       138       148       127        89        82        96   \n",
       "1     136  ...        47       104       194       183       186       184   \n",
       "2     147  ...        68       166       242       227       230       227   \n",
       "3     210  ...       154       248       247       248       253       236   \n",
       "4     203  ...        26        40        64        48        29        46   \n",
       "\n",
       "   pixel781  pixel782  pixel783  pixel784  \n",
       "0       106       112       120       107  \n",
       "1       184       184       182       180  \n",
       "2       226       225       224       222  \n",
       "3       230       240       253       255  \n",
       "4        49        46        46        53  \n",
       "\n",
       "[5 rows x 785 columns]"
      ]
     },
     "execution_count": 5,
     "metadata": {},
     "output_type": "execute_result"
    }
   ],
   "source": [
    "test_data.head()"
   ]
  },
  {
   "cell_type": "code",
   "execution_count": 6,
   "id": "1d58b054-2340-4241-ab81-1b9220c0bb7a",
   "metadata": {
    "collapsed": true,
    "jupyter": {
     "outputs_hidden": true
    },
    "tags": []
   },
   "outputs": [
    {
     "data": {
      "image/png": "[encoded data removed]",
      "text/plain": [
       "<Figure size 432x288 with 1 Axes>"
      ]
     },
     "metadata": {
      "needs_background": "light"
     },
     "output_type": "display_data"
    },
    {
     "data": {
      "image/png": "[encoded data removed]",
      "text/plain": [
       "<Figure size 432x288 with 1 Axes>"
      ]
     },
     "metadata": {
      "needs_background": "light"
     },
     "output_type": "display_data"
    },
    {
     "data": {
      "image/png": "[encoded data removed]",
      "text/plain": [
       "<Figure size 432x288 with 1 Axes>"
      ]
     },
     "metadata": {
      "needs_background": "light"
     },
     "output_type": "display_data"
    },
    {
     "data": {
      "image/png": "[encoded data removed]",
      "text/plain": [
       "<Figure size 432x288 with 1 Axes>"
      ]
     },
     "metadata": {
      "needs_background": "light"
     },
     "output_type": "display_data"
    },
    {
     "data": {
      "image/png": "[encoded data removed]",
      "text/plain": [
       "<Figure size 432x288 with 1 Axes>"
      ]
     },
     "metadata": {
      "needs_background": "light"
     },
     "output_type": "display_data"
    },
    {
     "data": {
      "image/png": "[encoded data removed]",
      "text/plain": [
       "<Figure size 432x288 with 1 Axes>"
      ]
     },
     "metadata": {
      "needs_background": "light"
     },
     "output_type": "display_data"
    },
    {
     "data": {
      "image/png": "[encoded data removed]",
      "text/plain": [
       "<Figure size 432x288 with 1 Axes>"
      ]
     },
     "metadata": {
      "needs_background": "light"
     },
     "output_type": "display_data"
    },
    {
     "data": {
      "image/png": "[encoded data removed]",
      "text/plain": [
       "<Figure size 432x288 with 1 Axes>"
      ]
     },
     "metadata": {
      "needs_background": "light"
     },
     "output_type": "display_data"
    },
    {
     "data": {
      "image/png": "[encoded data removed]",
      "text/plain": [
       "<Figure size 432x288 with 1 Axes>"
      ]
     },
     "metadata": {
      "needs_background": "light"
     },
     "output_type": "display_data"
    },
    {
     "data": {
      "image/png": "[encoded data removed]",
      "text/plain": [
       "<Figure size 432x288 with 1 Axes>"
      ]
     },
     "metadata": {
      "needs_background": "light"
     },
     "output_type": "display_data"
    },
    {
     "data": {
      "image/png": "[encoded data removed]",
      "text/plain": [
       "<Figure size 432x288 with 1 Axes>"
      ]
     },
     "metadata": {
      "needs_background": "light"
     },
     "output_type": "display_data"
    },
    {
     "data": {
      "image/png": "[encoded data removed]",
      "text/plain": [
       "<Figure size 432x288 with 1 Axes>"
      ]
     },
     "metadata": {
      "needs_background": "light"
     },
     "output_type": "display_data"
    },
    {
     "data": {
      "image/png": "[encoded data removed]",
      "text/plain": [
       "<Figure size 432x288 with 1 Axes>"
      ]
     },
     "metadata": {
      "needs_background": "light"
     },
     "output_type": "display_data"
    },
    {
     "data": {
      "image/png": "[encoded data removed]",
      "text/plain": [
       "<Figure size 432x288 with 1 Axes>"
      ]
     },
     "metadata": {
      "needs_background": "light"
     },
     "output_type": "display_data"
    },
    {
     "data": {
      "image/png": "[encoded data removed]",
      "text/plain": [
       "<Figure size 432x288 with 1 Axes>"
      ]
     },
     "metadata": {
      "needs_background": "light"
     },
     "output_type": "display_data"
    },
    {
     "data": {
      "image/png": "[encoded data removed]",
      "text/plain": [
       "<Figure size 432x288 with 1 Axes>"
      ]
     },
     "metadata": {
      "needs_background": "light"
     },
     "output_type": "display_data"
    },
    {
     "data": {
      "image/png": "[encoded data removed]",
      "text/plain": [
       "<Figure size 432x288 with 1 Axes>"
      ]
     },
     "metadata": {
      "needs_background": "light"
     },
     "output_type": "display_data"
    },
    {
     "data": {
      "image/png": "[encoded data removed]",
      "text/plain": [
       "<Figure size 432x288 with 1 Axes>"
      ]
     },
     "metadata": {
      "needs_background": "light"
     },
     "output_type": "display_data"
    },
    {
     "data": {
      "image/png": "[encoded data removed]",
      "text/plain": [
       "<Figure size 432x288 with 1 Axes>"
      ]
     },
     "metadata": {
      "needs_background": "light"
     },
     "output_type": "display_data"
    },
    {
     "data": {
      "image/png": "[encoded data removed]",
      "text/plain": [
       "<Figure size 432x288 with 1 Axes>"
      ]
     },
     "metadata": {
      "needs_background": "light"
     },
     "output_type": "display_data"
    },
    {
     "data": {
      "image/png": "[encoded data removed]",
      "text/plain": [
       "<Figure size 432x288 with 1 Axes>"
      ]
     },
     "metadata": {
      "needs_background": "light"
     },
     "output_type": "display_data"
    },
    {
     "data": {
      "image/png": "[encoded data removed]",
      "text/plain": [
       "<Figure size 432x288 with 1 Axes>"
      ]
     },
     "metadata": {
      "needs_background": "light"
     },
     "output_type": "display_data"
    },
    {
     "data": {
      "image/png": "[encoded data removed]",
      "text/plain": [
       "<Figure size 432x288 with 1 Axes>"
      ]
     },
     "metadata": {
      "needs_background": "light"
     },
     "output_type": "display_data"
    },
    {
     "data": {
      "image/png": "[encoded data removed]",
      "text/plain": [
       "<Figure size 432x288 with 1 Axes>"
      ]
     },
     "metadata": {
      "needs_background": "light"
     },
     "output_type": "display_data"
    },
    {
     "data": {
      "image/png": "[encoded data removed]",
      "text/plain": [
       "<Figure size 432x288 with 1 Axes>"
      ]
     },
     "metadata": {
      "needs_background": "light"
     },
     "output_type": "display_data"
    }
   ],
   "source": [
    "# for data in [(index,data) for index, data in test_data.iterrows() if index in range(25)]:\n",
    "#     plt.imshow(np.array(data[1][1:]).reshape(WIDTH,HEIGHT),cmap='gray')\n",
    "#     plt.title(LABELS[data[1][0]])\n",
    "#     plt.show()\n"
   ]
  },
  {
   "cell_type": "code",
   "execution_count": 7,
   "id": "6ad270f6-a730-4378-838b-cda063db3854",
   "metadata": {},
   "outputs": [],
   "source": [
    "## random shuffling first time\n",
    "all_data = all_data.sample(frac=1).reset_index(drop=True)\n",
    "test_data = test_data.sample(frac=1).reset_index(drop=True)"
   ]
  },
  {
   "cell_type": "code",
   "execution_count": 8,
   "id": "8ab7313a-3009-43ab-bd91-8c4f73b58189",
   "metadata": {},
   "outputs": [
    {
     "name": "stdout",
     "output_type": "stream",
     "text": [
      "27455\n",
      "21964 5491\n"
     ]
    }
   ],
   "source": [
    "data_length = all_data.shape[0]\n",
    "test_data_length = test_data.shape[0]\n",
    "print(data_length)\n",
    "validation_data_length = int(data_length * VALIDATION_PERCNTAGE)\n",
    "train_data_length = data_length - validation_data_length\n",
    "\n",
    "print(train_data_length,validation_data_length)"
   ]
  },
  {
   "cell_type": "code",
   "execution_count": 9,
   "id": "0ef4d18e-a1d3-4e9a-8a05-b86e43e3a670",
   "metadata": {},
   "outputs": [
    {
     "name": "stderr",
     "output_type": "stream",
     "text": [
      "/tmp/ipykernel_64753/898471678.py:2: FutureWarning: In a future version of pandas all arguments of DataFrame.drop except for the argument 'labels' will be keyword-only\n",
      "  all_data = all_data.drop('label',1)\n",
      "/tmp/ipykernel_64753/898471678.py:5: FutureWarning: In a future version of pandas all arguments of DataFrame.drop except for the argument 'labels' will be keyword-only\n",
      "  test_data = test_data.drop('label',1)\n"
     ]
    }
   ],
   "source": [
    "y_labels = all_data['label']\n",
    "all_data = all_data.drop('label',1)\n",
    "\n",
    "y_test_labels = test_data['label']\n",
    "test_data = test_data.drop('label',1)"
   ]
  },
  {
   "cell_type": "code",
   "execution_count": 24,
   "id": "bda7661d-c0af-4c5f-93b8-2266351cf4bc",
   "metadata": {},
   "outputs": [
    {
     "name": "stdout",
     "output_type": "stream",
     "text": [
      "[[-0.5  0. ]\n",
      " [ 0.5  1. ]]\n"
     ]
    }
   ],
   "source": [
    "a = np.array([[1,2],[3,4]])\n",
    "print(2*(a/4 - 0.5))"
   ]
  },
  {
   "cell_type": "code",
   "execution_count": 25,
   "id": "80ad3eb2-412d-44a9-b469-61411c574f3f",
   "metadata": {
    "tags": []
   },
   "outputs": [
    {
     "name": "stdout",
     "output_type": "stream",
     "text": [
      "[[ 0.35686278  0.36470592  0.36470592 ...  0.34901965  0.32549024\n",
      "   0.12941182]\n",
      " [ 0.37254906  0.4039216   0.41176474 ...  0.6156863   0.60784316\n",
      "   0.58431375]\n",
      " [-0.19215685 -0.10588235 -0.03529412 ... -0.25490195 -0.23921567\n",
      "  -0.23137254]\n",
      " ...\n",
      " [ 0.5137255   0.52156866  0.5294118  ...  0.7254902   0.4431373\n",
      "   0.02745104]\n",
      " [ 0.6313726   0.6392157   0.64705884 ... -0.58431375 -0.5294118\n",
      "  -0.6156863 ]\n",
      " [-0.34117645 -0.30196077 -0.26274508 ...  0.45098042  0.4666667\n",
      "   0.47450984]]\n",
      "[[ 0.30196083  0.30980396  0.30980396 ...  0.38823533  0.43529415\n",
      "  -0.04313725]\n",
      " [-0.18431371 -0.09803921 -0.05098039 ... -0.60784316 -0.654902\n",
      "  -0.6784314 ]\n",
      " [-0.7490196  -0.4823529  -0.6        ...  0.4901961   0.4901961\n",
      "   0.5058824 ]\n",
      " ...\n",
      " [ 0.11372554  0.11372554  0.12156868 ...  0.5529412   0.26274514\n",
      "   0.27843142]\n",
      " [ 0.3803922   0.427451    0.47450984 ... -0.05098039 -0.20784312\n",
      "  -0.38039213]\n",
      " [ 0.20784318  0.22352946  0.2313726  ... -0.23921567 -0.06666666\n",
      "  -0.49019605]]\n",
      "[[ 0.00392163  0.01176476  0.01176476 ...  0.41960788  0.41960788\n",
      "   0.4039216 ]\n",
      " [ 0.03529418  0.05098045  0.06666672 ...  0.47450984  0.47450984\n",
      "   0.47450984]\n",
      " [ 0.7254902   0.73333335  0.73333335 ... -0.94509804 -1.\n",
      "  -0.9607843 ]\n",
      " ...\n",
      " [ 0.00392163  0.02745104  0.05098045 ...  0.5058824   0.5137255\n",
      "   0.5058824 ]\n",
      " [-0.21568626 -0.18431371 -0.1372549  ...  0.7647059   0.77254903\n",
      "   0.77254903]\n",
      " [ 0.12156868  0.14509809  0.1686275  ... -1.         -1.\n",
      "  -1.        ]]\n"
     ]
    }
   ],
   "source": [
    "## DATA normalization\n",
    "\n",
    "x_train = 2 * (all_data.copy().values[:train_data_length].astype(np.float32)/255 - 0.5)\n",
    "_y_train = y_labels.copy()[:train_data_length]\n",
    "\n",
    "\n",
    "x_valid = 2 * (all_data.copy().values[train_data_length:].astype(np.float32)/255 - 0.5)\n",
    "_y_valid = y_labels.copy().values[train_data_length:]\n",
    "\n",
    "\n",
    "y_train =  tf.Session().run(tf.one_hot(_y_train,25))\n",
    "y_valid =  tf.Session().run(tf.one_hot(_y_valid,25))\n",
    "\n",
    "x_test = 2 * (test_data.copy().values.astype(np.float32)/255 - 0.5)\n",
    "y_test = tf.Session().run(tf.one_hot(y_test_labels.values,25))\n",
    "\n",
    "print(x_train)\n",
    "print(x_valid)\n",
    "print(x_test)"
   ]
  },
  {
   "cell_type": "code",
   "execution_count": 26,
   "id": "23fc96c4-7b67-435c-964a-4c0895ff918b",
   "metadata": {},
   "outputs": [],
   "source": [
    "## HYPER PARAMS\n",
    "adam_learning_rate = 0.001\n",
    "sgd_learning_rate = 0.1\n",
    "\n",
    "batch_size = 1024\n",
    "n_inputs = x_train.shape[1]\n",
    "n_outputs = 25\n",
    "layers_num = [n_inputs,256,256,n_outputs] ## hidden layers\n"
   ]
  },
  {
   "cell_type": "code",
   "execution_count": 27,
   "id": "03e18c2b-098a-469d-ad11-08050168a034",
   "metadata": {},
   "outputs": [],
   "source": [
    "def train_task(summary_path,train_data,validate_data,batch_size,loss,accuracy,\n",
    "               training_op,epoches,train_tensorboard,merged_tensorboard,X,Y):\n",
    "    loss_buffer = []\n",
    "    acc_buffer = []\n",
    "\n",
    "    with tf.Session() as sess:\n",
    "        write = tf.summary.FileWriter(summary_path, sess.graph)\n",
    "\n",
    "        sess.run(tf.global_variables_initializer())\n",
    "        for epoch in range(0,epoches):\n",
    "            \n",
    "            for i in range(int(train_data_length/batch_size)):\n",
    "                \n",
    "                f={ X:train_data[0][i*batch_size : (i+1)*batch_size] , Y:train_data[1][i*batch_size : (i+1)*batch_size] }\n",
    "                \n",
    "                _, train_val = sess.run([training_op, train_tensorboard],feed_dict=f)\n",
    "                write.add_summary(train_val,epoch * int(train_data_length/batch_size) + i)\n",
    "\n",
    "              # print('iter {}: \\t Loss={:.2f}'.format(i,sess.run(loss,feed_dict=f)))\n",
    "\n",
    "            f_valid={X:validate_data[0], Y:validate_data[1]}\n",
    "\n",
    "            val,ls,acc = sess.run([merged_tensorboard,loss,accuracy], feed_dict=f_valid)\n",
    "            write.add_summary(val,epoch)\n",
    "            # write.add_summary(acc,epoch)\n",
    "            if epoch%25 == 0:\n",
    "                print('--------------------------------------------------')\n",
    "                print('Epoch:{} \\t Validation Loss:{:.2f} , acc: {:.2f}'.format(epoch,ls,acc))\n",
    "                print('--------------------------------------------------')\n",
    "            loss_buffer.append(ls)\n",
    "            acc_buffer.append(acc)\n",
    "\n",
    "        ls,acc = sess.run([loss,accuracy],feed_dict={X:x_test,Y:y_test})\n",
    "        print('--------------------------------------------------')\n",
    "        print('final \\t test Loss:{:.2f} , acc: {:.2f}'.format(ls,acc))\n",
    "        print('--------------------------------------------------')\n",
    "        return loss_buffer,acc_buffer\n",
    "\n"
   ]
  },
  {
   "cell_type": "code",
   "execution_count": 28,
   "id": "8c307631-5dcc-41f3-87fa-6582e1b3f9f1",
   "metadata": {},
   "outputs": [],
   "source": [
    "def neural_network():\n",
    "    weights = []\n",
    "    biases = []\n",
    "    layers = []\n",
    "\n",
    "\n",
    "#     layers_num.insert(0,n_inputs)\n",
    "#     layers_num.append(n_outputs)\n",
    "\n",
    "    tf.reset_default_graph()\n",
    "\n",
    "    # tf.summary.FileWriter('./graphs', tf.get_default_graph())\n",
    "\n",
    "\n",
    "    X = tf.placeholder('float', [None, n_inputs])\n",
    "    Y = tf.placeholder('float', [None, n_outputs])\n",
    "\n",
    "    histogram_tensorboard = []\n",
    "\n",
    "    print(layers_num)\n",
    "    for i in range(len(layers_num)-1):\n",
    "        weights.append(tf.get_variable(dtype=tf.float32, shape=(layers_num[i],layers_num[i+1]),name=\"W_{}\".format(i),\n",
    "                                       initializer=tf.truncated_normal_initializer(stddev=0.001)))\n",
    "        histogram_tensorboard.append(tf.summary.histogram(\"W_{}\".format(i), weights[i]))\n",
    "\n",
    "        biases.append(tf.get_variable(dtype=tf.float32, shape=(layers_num[i+1]) , name=\"B_{}\".format(i),\n",
    "                                      initializer=tf.zeros_initializer()))\n",
    "        histogram_tensorboard.append(tf.summary.histogram(\"B_{}\".format(i), biases[i]))\n",
    "\n",
    "    # histogram_merged = tf.summary.merge(histogram_tensorboard)\n",
    "\n",
    "    print(weights)\n",
    "    print(biases)\n",
    "    middle = len(layers_num) - 3\n",
    "    \n",
    "    layers.append(tf.nn.relu(tf.add(tf.matmul(X, weights[0]), biases[0])))\n",
    "    for i in range(middle):\n",
    "        layers.append(tf.nn.relu(tf.add(tf.matmul(layers[i], weights[i+1]), biases[i+1])))\n",
    "\n",
    "    layers.append(tf.matmul(layers[middle], weights[middle+1]) + biases[middle+1])\n",
    "    # layers.append(tf.matmul(layers[2], weights[3]))\n",
    "\n",
    "    print(layers)\n",
    "    return layers[-1],X,Y,histogram_tensorboard"
   ]
  },
  {
   "cell_type": "code",
   "execution_count": 29,
   "id": "1576cf86-c423-4c75-a717-95514db13523",
   "metadata": {},
   "outputs": [],
   "source": [
    "def loss_accuracy_op(logits,labels,optimizer,opt_options={\"learning_rate\":0.001}):\n",
    "    loss= tf.reduce_mean(tf.nn.softmax_cross_entropy_with_logits(labels=labels, logits= logits,\n",
    "                                            name='LOSS'))\n",
    "    \n",
    "    _optimizer = optimizer(learning_rate = opt_options[\"learning_rate\"])\n",
    "    training_op = _optimizer.minimize(loss)\n",
    "    correct_pred = tf.equal(tf.argmax(logits, 1), tf.argmax(labels, 1))\n",
    "    accuracy = tf.reduce_mean(tf.cast(correct_pred, tf.float32))\n",
    "    return (loss,accuracy,training_op)"
   ]
  },
  {
   "cell_type": "code",
   "execution_count": 30,
   "id": "6087bcbc-2929-4119-829f-546615336bbf",
   "metadata": {},
   "outputs": [],
   "source": [
    "def tensorboard_creator(loss,accuracy,histogram):\n",
    "    \n",
    "    loss_tensorboard=tf.summary.scalar('Validation_Loss', loss)\n",
    "    acc_tensorboard=tf.summary.scalar('Accuracy_Loss', accuracy)\n",
    "    \n",
    "    train_tensorboard=tf.summary.scalar('Training_Loss', loss)\n",
    "\n",
    "    merged = tf.summary.merge([loss_tensorboard,acc_tensorboard] + histogram)\n",
    "    return merged, train_tensorboard"
   ]
  },
  {
   "cell_type": "code",
   "execution_count": 31,
   "id": "5b7fcde9-2717-4f20-a2ed-e830a089df45",
   "metadata": {},
   "outputs": [
    {
     "name": "stdout",
     "output_type": "stream",
     "text": [
      "[784, 256, 256, 25]\n",
      "[<tf.Variable 'W_0:0' shape=(784, 256) dtype=float32_ref>, <tf.Variable 'W_1:0' shape=(256, 256) dtype=float32_ref>, <tf.Variable 'W_2:0' shape=(256, 25) dtype=float32_ref>]\n",
      "[<tf.Variable 'B_0:0' shape=(256,) dtype=float32_ref>, <tf.Variable 'B_1:0' shape=(256,) dtype=float32_ref>, <tf.Variable 'B_2:0' shape=(25,) dtype=float32_ref>]\n",
      "[<tf.Tensor 'Relu:0' shape=(?, 256) dtype=float32>, <tf.Tensor 'Relu_1:0' shape=(?, 256) dtype=float32>, <tf.Tensor 'add_2:0' shape=(?, 25) dtype=float32>]\n",
      "--------------------------------------------------\n",
      "Epoch:0 \t Validation Loss:3.22 , acc: 0.05\n",
      "--------------------------------------------------\n",
      "--------------------------------------------------\n",
      "Epoch:25 \t Validation Loss:3.19 , acc: 0.05\n",
      "--------------------------------------------------\n",
      "--------------------------------------------------\n",
      "Epoch:50 \t Validation Loss:3.18 , acc: 0.05\n",
      "--------------------------------------------------\n",
      "--------------------------------------------------\n",
      "Epoch:75 \t Validation Loss:3.18 , acc: 0.05\n",
      "--------------------------------------------------\n",
      "--------------------------------------------------\n",
      "Epoch:100 \t Validation Loss:3.18 , acc: 0.05\n",
      "--------------------------------------------------\n",
      "--------------------------------------------------\n",
      "final \t test Loss:3.21 , acc: 0.02\n",
      "--------------------------------------------------\n",
      "[784, 256, 256, 25]\n",
      "[<tf.Variable 'W_0:0' shape=(784, 256) dtype=float32_ref>, <tf.Variable 'W_1:0' shape=(256, 256) dtype=float32_ref>, <tf.Variable 'W_2:0' shape=(256, 25) dtype=float32_ref>]\n",
      "[<tf.Variable 'B_0:0' shape=(256,) dtype=float32_ref>, <tf.Variable 'B_1:0' shape=(256,) dtype=float32_ref>, <tf.Variable 'B_2:0' shape=(25,) dtype=float32_ref>]\n",
      "[<tf.Tensor 'Relu:0' shape=(?, 256) dtype=float32>, <tf.Tensor 'Relu_1:0' shape=(?, 256) dtype=float32>, <tf.Tensor 'add_2:0' shape=(?, 25) dtype=float32>]\n",
      "--------------------------------------------------\n",
      "Epoch:0 \t Validation Loss:2.74 , acc: 0.14\n",
      "--------------------------------------------------\n",
      "--------------------------------------------------\n",
      "Epoch:25 \t Validation Loss:0.01 , acc: 1.00\n",
      "--------------------------------------------------\n",
      "--------------------------------------------------\n",
      "final \t test Loss:1.76 , acc: 0.71\n",
      "--------------------------------------------------\n"
     ]
    }
   ],
   "source": [
    "logits, input_data, out, histogram_tensorboard = neural_network()\n",
    "SGD_loss,SGD_accuracy,SGD_training_op = loss_accuracy_op(logits,out,tf.train.GradientDescentOptimizer,{\"learning_rate\":sgd_learning_rate})\n",
    "SGD_merged,SGD_train_tensorboard = tensorboard_creator(SGD_loss,SGD_accuracy,histogram_tensorboard)\n",
    "ls_sgd, acc_sgd = train_task(\"./summary/SGD\",(x_train,y_train),(x_valid,y_valid),batch_size,\n",
    "           SGD_loss,SGD_accuracy,SGD_training_op,120,SGD_train_tensorboard,SGD_merged, input_data, out);\n",
    "\n",
    "logits, input_data, out, histogram_tensorboard = neural_network()\n",
    "Adam_loss,Adam_accuracy,Adam_training_op = loss_accuracy_op(logits, out, tf.train.AdamOptimizer, {\"learning_rate\":adam_learning_rate})\n",
    "Adam_merged,Adam_train_tensorboard = tensorboard_creator(Adam_loss, Adam_accuracy, histogram_tensorboard)\n",
    "ls_adam, acc_adam = train_task(\"./summary/Adam\",(x_train,y_train),(x_valid,y_valid),batch_size,\n",
    "           Adam_loss,Adam_accuracy,Adam_training_op,30,Adam_train_tensorboard,Adam_merged, input_data, out);"
   ]
  },
  {
   "cell_type": "code",
   "execution_count": 18,
   "id": "fc1df25b-4430-4aa3-9f2a-d36b01f78cc4",
   "metadata": {},
   "outputs": [
    {
     "data": {
      "image/png": "[encoded data removed]",
      "text/plain": [
       "<Figure size 432x288 with 1 Axes>"
      ]
     },
     "metadata": {
      "needs_background": "light"
     },
     "output_type": "display_data"
    }
   ],
   "source": [
    "plt.plot(list(range(len(ls_sgd))),ls_sgd,label = \"sgd\")\n",
    "plt.plot(list(range(len(ls_adam))),ls_adam,label = \"adam\")\n",
    "plt.title(\"Loss\")\n",
    "plt.legend()\n",
    "plt.show()"
   ]
  },
  {
   "cell_type": "code",
   "execution_count": 19,
   "id": "476e2438-82a4-4cd2-9279-9c601d7653e5",
   "metadata": {
    "tags": []
   },
   "outputs": [
    {
     "data": {
      "image/png": "[encoded data removed]",
      "text/plain": [
       "<Figure size 432x288 with 1 Axes>"
      ]
     },
     "metadata": {
      "needs_background": "light"
     },
     "output_type": "display_data"
    }
   ],
   "source": [
    "plt.plot(list(range(len(acc_sgd))),acc_sgd,label = \"sgd\")\n",
    "plt.plot(list(range(len(acc_adam))),acc_adam,label = \"adam\")\n",
    "plt.title(\"Accuracy\")\n",
    "plt.legend()\n",
    "plt.show()"
   ]
  },
  {
   "cell_type": "code",
   "execution_count": null,
   "id": "244f2288-bd35-4ec2-9aec-067bc6088646",
   "metadata": {
    "tags": []
   },
   "outputs": [],
   "source": []
  },
  {
   "cell_type": "code",
   "execution_count": null,
   "id": "761d8572-3112-425a-a5a8-f93fb02a7c68",
   "metadata": {
    "tags": []
   },
   "outputs": [],
   "source": []
  },
  {
   "cell_type": "code",
   "execution_count": null,
   "id": "11e54218-dc41-4adc-97d8-7f95f78c8c1c",
   "metadata": {},
   "outputs": [],
   "source": []
  },
  {
   "cell_type": "code",
   "execution_count": null,
   "id": "25e757ca-8e8d-493c-932b-9cae9f5d31b0",
   "metadata": {},
   "outputs": [],
   "source": []
  },
  {
   "cell_type": "code",
   "execution_count": 20,
   "id": "b321cdb8-66ae-474a-bddb-acd2b60a5c2a",
   "metadata": {},
   "outputs": [],
   "source": [
    "# plt.plot(list(range(len(acc_buffer))),acc_buffer)\n",
    "# plt.title(\"Accuracy\")\n",
    "# plt.show()"
   ]
  },
  {
   "cell_type": "code",
   "execution_count": null,
   "id": "67766514-b0fb-486e-a30b-d8cfe999504d",
   "metadata": {},
   "outputs": [],
   "source": []
  },
  {
   "cell_type": "code",
   "execution_count": null,
   "id": "98dff4eb-b8b1-457c-ae97-0030625be1ce",
   "metadata": {},
   "outputs": [],
   "source": []
  }
 ],
 "metadata": {
  "kernelspec": {
   "display_name": "Python 3 (ipykernel)",
   "language": "python",
   "name": "python3"
  },
  "language_info": {
   "codemirror_mode": {
    "name": "ipython",
    "version": 3
   },
   "file_extension": ".py",
   "mimetype": "text/x-python",
   "name": "python",
   "nbconvert_exporter": "python",
   "pygments_lexer": "ipython3",
   "version": "3.8.10"
  }
 },
 "nbformat": 4,
 "nbformat_minor": 5
}
